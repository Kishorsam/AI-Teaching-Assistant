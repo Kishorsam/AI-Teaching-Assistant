{
  "nbformat": 4,
  "nbformat_minor": 0,
  "metadata": {
    "colab": {
      "provenance": []
    },
    "kernelspec": {
      "name": "python3",
      "display_name": "Python 3"
    },
    "language_info": {
      "name": "python"
    }
  },
  "cells": [
    {
      "cell_type": "code",
      "execution_count": 1,
      "metadata": {
        "colab": {
          "base_uri": "https://localhost:8080/"
        },
        "id": "BfBub3k0ukFd",
        "outputId": "8f5d54c1-0499-461a-cf7b-142ca713ef40"
      },
      "outputs": [
        {
          "output_type": "stream",
          "name": "stdout",
          "text": [
            "Requirement already satisfied: openai in /usr/local/lib/python3.10/dist-packages (1.54.4)\n",
            "Collecting gradio\n",
            "  Downloading gradio-5.6.0-py3-none-any.whl.metadata (16 kB)\n",
            "Collecting whisper\n",
            "  Downloading whisper-1.1.10.tar.gz (42 kB)\n",
            "\u001b[2K     \u001b[90m━━━━━━━━━━━━━━━━━━━━━━━━━━━━━━━━━━━━━━━━\u001b[0m \u001b[32m42.8/42.8 kB\u001b[0m \u001b[31m1.4 MB/s\u001b[0m eta \u001b[36m0:00:00\u001b[0m\n",
            "\u001b[?25h  Preparing metadata (setup.py) ... \u001b[?25l\u001b[?25hdone\n",
            "Collecting pyttsx3\n",
            "  Downloading pyttsx3-2.98-py3-none-any.whl.metadata (3.8 kB)\n",
            "Requirement already satisfied: anyio<5,>=3.5.0 in /usr/local/lib/python3.10/dist-packages (from openai) (3.7.1)\n",
            "Requirement already satisfied: distro<2,>=1.7.0 in /usr/local/lib/python3.10/dist-packages (from openai) (1.9.0)\n",
            "Requirement already satisfied: httpx<1,>=0.23.0 in /usr/local/lib/python3.10/dist-packages (from openai) (0.27.2)\n",
            "Requirement already satisfied: jiter<1,>=0.4.0 in /usr/local/lib/python3.10/dist-packages (from openai) (0.7.1)\n",
            "Requirement already satisfied: pydantic<3,>=1.9.0 in /usr/local/lib/python3.10/dist-packages (from openai) (2.9.2)\n",
            "Requirement already satisfied: sniffio in /usr/local/lib/python3.10/dist-packages (from openai) (1.3.1)\n",
            "Requirement already satisfied: tqdm>4 in /usr/local/lib/python3.10/dist-packages (from openai) (4.66.6)\n",
            "Requirement already satisfied: typing-extensions<5,>=4.11 in /usr/local/lib/python3.10/dist-packages (from openai) (4.12.2)\n",
            "Collecting aiofiles<24.0,>=22.0 (from gradio)\n",
            "  Downloading aiofiles-23.2.1-py3-none-any.whl.metadata (9.7 kB)\n",
            "Collecting fastapi<1.0,>=0.115.2 (from gradio)\n",
            "  Downloading fastapi-0.115.5-py3-none-any.whl.metadata (27 kB)\n",
            "Collecting ffmpy (from gradio)\n",
            "  Downloading ffmpy-0.4.0-py3-none-any.whl.metadata (2.9 kB)\n",
            "Collecting gradio-client==1.4.3 (from gradio)\n",
            "  Downloading gradio_client-1.4.3-py3-none-any.whl.metadata (7.1 kB)\n",
            "Requirement already satisfied: huggingface-hub>=0.25.1 in /usr/local/lib/python3.10/dist-packages (from gradio) (0.26.2)\n",
            "Requirement already satisfied: jinja2<4.0 in /usr/local/lib/python3.10/dist-packages (from gradio) (3.1.4)\n",
            "Collecting markupsafe~=2.0 (from gradio)\n",
            "  Downloading MarkupSafe-2.1.5-cp310-cp310-manylinux_2_17_x86_64.manylinux2014_x86_64.whl.metadata (3.0 kB)\n",
            "Requirement already satisfied: numpy<3.0,>=1.0 in /usr/local/lib/python3.10/dist-packages (from gradio) (1.26.4)\n",
            "Requirement already satisfied: orjson~=3.0 in /usr/local/lib/python3.10/dist-packages (from gradio) (3.10.11)\n",
            "Requirement already satisfied: packaging in /usr/local/lib/python3.10/dist-packages (from gradio) (24.2)\n",
            "Requirement already satisfied: pandas<3.0,>=1.0 in /usr/local/lib/python3.10/dist-packages (from gradio) (2.2.2)\n",
            "Requirement already satisfied: pillow<12.0,>=8.0 in /usr/local/lib/python3.10/dist-packages (from gradio) (11.0.0)\n",
            "Collecting pydub (from gradio)\n",
            "  Downloading pydub-0.25.1-py2.py3-none-any.whl.metadata (1.4 kB)\n",
            "Collecting python-multipart==0.0.12 (from gradio)\n",
            "  Downloading python_multipart-0.0.12-py3-none-any.whl.metadata (1.9 kB)\n",
            "Requirement already satisfied: pyyaml<7.0,>=5.0 in /usr/local/lib/python3.10/dist-packages (from gradio) (6.0.2)\n",
            "Collecting ruff>=0.2.2 (from gradio)\n",
            "  Downloading ruff-0.7.4-py3-none-manylinux_2_17_x86_64.manylinux2014_x86_64.whl.metadata (25 kB)\n",
            "Collecting safehttpx<1.0,>=0.1.1 (from gradio)\n",
            "  Downloading safehttpx-0.1.1-py3-none-any.whl.metadata (4.1 kB)\n",
            "Collecting semantic-version~=2.0 (from gradio)\n",
            "  Downloading semantic_version-2.10.0-py2.py3-none-any.whl.metadata (9.7 kB)\n",
            "Collecting starlette<1.0,>=0.40.0 (from gradio)\n",
            "  Downloading starlette-0.41.2-py3-none-any.whl.metadata (6.0 kB)\n",
            "Collecting tomlkit==0.12.0 (from gradio)\n",
            "  Downloading tomlkit-0.12.0-py3-none-any.whl.metadata (2.7 kB)\n",
            "Requirement already satisfied: typer<1.0,>=0.12 in /usr/local/lib/python3.10/dist-packages (from gradio) (0.13.0)\n",
            "Collecting uvicorn>=0.14.0 (from gradio)\n",
            "  Downloading uvicorn-0.32.0-py3-none-any.whl.metadata (6.6 kB)\n",
            "Requirement already satisfied: fsspec in /usr/local/lib/python3.10/dist-packages (from gradio-client==1.4.3->gradio) (2024.10.0)\n",
            "Collecting websockets<13.0,>=10.0 (from gradio-client==1.4.3->gradio)\n",
            "  Downloading websockets-12.0-cp310-cp310-manylinux_2_5_x86_64.manylinux1_x86_64.manylinux_2_17_x86_64.manylinux2014_x86_64.whl.metadata (6.6 kB)\n",
            "Requirement already satisfied: six in /usr/local/lib/python3.10/dist-packages (from whisper) (1.16.0)\n",
            "Requirement already satisfied: idna>=2.8 in /usr/local/lib/python3.10/dist-packages (from anyio<5,>=3.5.0->openai) (3.10)\n",
            "Requirement already satisfied: exceptiongroup in /usr/local/lib/python3.10/dist-packages (from anyio<5,>=3.5.0->openai) (1.2.2)\n",
            "Requirement already satisfied: certifi in /usr/local/lib/python3.10/dist-packages (from httpx<1,>=0.23.0->openai) (2024.8.30)\n",
            "Requirement already satisfied: httpcore==1.* in /usr/local/lib/python3.10/dist-packages (from httpx<1,>=0.23.0->openai) (1.0.6)\n",
            "Requirement already satisfied: h11<0.15,>=0.13 in /usr/local/lib/python3.10/dist-packages (from httpcore==1.*->httpx<1,>=0.23.0->openai) (0.14.0)\n",
            "Requirement already satisfied: filelock in /usr/local/lib/python3.10/dist-packages (from huggingface-hub>=0.25.1->gradio) (3.16.1)\n",
            "Requirement already satisfied: requests in /usr/local/lib/python3.10/dist-packages (from huggingface-hub>=0.25.1->gradio) (2.32.3)\n",
            "Requirement already satisfied: python-dateutil>=2.8.2 in /usr/local/lib/python3.10/dist-packages (from pandas<3.0,>=1.0->gradio) (2.8.2)\n",
            "Requirement already satisfied: pytz>=2020.1 in /usr/local/lib/python3.10/dist-packages (from pandas<3.0,>=1.0->gradio) (2024.2)\n",
            "Requirement already satisfied: tzdata>=2022.7 in /usr/local/lib/python3.10/dist-packages (from pandas<3.0,>=1.0->gradio) (2024.2)\n",
            "Requirement already satisfied: annotated-types>=0.6.0 in /usr/local/lib/python3.10/dist-packages (from pydantic<3,>=1.9.0->openai) (0.7.0)\n",
            "Requirement already satisfied: pydantic-core==2.23.4 in /usr/local/lib/python3.10/dist-packages (from pydantic<3,>=1.9.0->openai) (2.23.4)\n",
            "Requirement already satisfied: click>=8.0.0 in /usr/local/lib/python3.10/dist-packages (from typer<1.0,>=0.12->gradio) (8.1.7)\n",
            "Requirement already satisfied: shellingham>=1.3.0 in /usr/local/lib/python3.10/dist-packages (from typer<1.0,>=0.12->gradio) (1.5.4)\n",
            "Requirement already satisfied: rich>=10.11.0 in /usr/local/lib/python3.10/dist-packages (from typer<1.0,>=0.12->gradio) (13.9.4)\n",
            "Requirement already satisfied: markdown-it-py>=2.2.0 in /usr/local/lib/python3.10/dist-packages (from rich>=10.11.0->typer<1.0,>=0.12->gradio) (3.0.0)\n",
            "Requirement already satisfied: pygments<3.0.0,>=2.13.0 in /usr/local/lib/python3.10/dist-packages (from rich>=10.11.0->typer<1.0,>=0.12->gradio) (2.18.0)\n",
            "Requirement already satisfied: charset-normalizer<4,>=2 in /usr/local/lib/python3.10/dist-packages (from requests->huggingface-hub>=0.25.1->gradio) (3.4.0)\n",
            "Requirement already satisfied: urllib3<3,>=1.21.1 in /usr/local/lib/python3.10/dist-packages (from requests->huggingface-hub>=0.25.1->gradio) (2.2.3)\n",
            "Requirement already satisfied: mdurl~=0.1 in /usr/local/lib/python3.10/dist-packages (from markdown-it-py>=2.2.0->rich>=10.11.0->typer<1.0,>=0.12->gradio) (0.1.2)\n",
            "Downloading gradio-5.6.0-py3-none-any.whl (57.1 MB)\n",
            "\u001b[2K   \u001b[90m━━━━━━━━━━━━━━━━━━━━━━━━━━━━━━━━━━━━━━━━\u001b[0m \u001b[32m57.1/57.1 MB\u001b[0m \u001b[31m11.8 MB/s\u001b[0m eta \u001b[36m0:00:00\u001b[0m\n",
            "\u001b[?25hDownloading gradio_client-1.4.3-py3-none-any.whl (320 kB)\n",
            "\u001b[2K   \u001b[90m━━━━━━━━━━━━━━━━━━━━━━━━━━━━━━━━━━━━━━━━\u001b[0m \u001b[32m320.1/320.1 kB\u001b[0m \u001b[31m14.0 MB/s\u001b[0m eta \u001b[36m0:00:00\u001b[0m\n",
            "\u001b[?25hDownloading python_multipart-0.0.12-py3-none-any.whl (23 kB)\n",
            "Downloading tomlkit-0.12.0-py3-none-any.whl (37 kB)\n",
            "Downloading pyttsx3-2.98-py3-none-any.whl (34 kB)\n",
            "Downloading aiofiles-23.2.1-py3-none-any.whl (15 kB)\n",
            "Downloading fastapi-0.115.5-py3-none-any.whl (94 kB)\n",
            "\u001b[2K   \u001b[90m━━━━━━━━━━━━━━━━━━━━━━━━━━━━━━━━━━━━━━━━\u001b[0m \u001b[32m94.9/94.9 kB\u001b[0m \u001b[31m4.8 MB/s\u001b[0m eta \u001b[36m0:00:00\u001b[0m\n",
            "\u001b[?25hDownloading MarkupSafe-2.1.5-cp310-cp310-manylinux_2_17_x86_64.manylinux2014_x86_64.whl (25 kB)\n",
            "Downloading ruff-0.7.4-py3-none-manylinux_2_17_x86_64.manylinux2014_x86_64.whl (11.1 MB)\n",
            "\u001b[2K   \u001b[90m━━━━━━━━━━━━━━━━━━━━━━━━━━━━━━━━━━━━━━━━\u001b[0m \u001b[32m11.1/11.1 MB\u001b[0m \u001b[31m35.1 MB/s\u001b[0m eta \u001b[36m0:00:00\u001b[0m\n",
            "\u001b[?25hDownloading safehttpx-0.1.1-py3-none-any.whl (8.4 kB)\n",
            "Downloading semantic_version-2.10.0-py2.py3-none-any.whl (15 kB)\n",
            "Downloading starlette-0.41.2-py3-none-any.whl (73 kB)\n",
            "\u001b[2K   \u001b[90m━━━━━━━━━━━━━━━━━━━━━━━━━━━━━━━━━━━━━━━━\u001b[0m \u001b[32m73.3/73.3 kB\u001b[0m \u001b[31m5.1 MB/s\u001b[0m eta \u001b[36m0:00:00\u001b[0m\n",
            "\u001b[?25hDownloading uvicorn-0.32.0-py3-none-any.whl (63 kB)\n",
            "\u001b[2K   \u001b[90m━━━━━━━━━━━━━━━━━━━━━━━━━━━━━━━━━━━━━━━━\u001b[0m \u001b[32m63.7/63.7 kB\u001b[0m \u001b[31m2.9 MB/s\u001b[0m eta \u001b[36m0:00:00\u001b[0m\n",
            "\u001b[?25hDownloading ffmpy-0.4.0-py3-none-any.whl (5.8 kB)\n",
            "Downloading pydub-0.25.1-py2.py3-none-any.whl (32 kB)\n",
            "Downloading websockets-12.0-cp310-cp310-manylinux_2_5_x86_64.manylinux1_x86_64.manylinux_2_17_x86_64.manylinux2014_x86_64.whl (130 kB)\n",
            "\u001b[2K   \u001b[90m━━━━━━━━━━━━━━━━━━━━━━━━━━━━━━━━━━━━━━━━\u001b[0m \u001b[32m130.2/130.2 kB\u001b[0m \u001b[31m6.9 MB/s\u001b[0m eta \u001b[36m0:00:00\u001b[0m\n",
            "\u001b[?25hBuilding wheels for collected packages: whisper\n",
            "  Building wheel for whisper (setup.py) ... \u001b[?25l\u001b[?25hdone\n",
            "  Created wheel for whisper: filename=whisper-1.1.10-py3-none-any.whl size=41120 sha256=5ecf8e72cd2fa8f60ac423ee65806b08d571480255f12cfca65609f8af631fff\n",
            "  Stored in directory: /root/.cache/pip/wheels/aa/7c/1d/015619716e2facae6631312503baf3c3220e6a9a3508cb14b6\n",
            "Successfully built whisper\n",
            "Installing collected packages: pyttsx3, pydub, whisper, websockets, uvicorn, tomlkit, semantic-version, ruff, python-multipart, markupsafe, ffmpy, aiofiles, starlette, safehttpx, gradio-client, fastapi, gradio\n",
            "  Attempting uninstall: markupsafe\n",
            "    Found existing installation: MarkupSafe 3.0.2\n",
            "    Uninstalling MarkupSafe-3.0.2:\n",
            "      Successfully uninstalled MarkupSafe-3.0.2\n",
            "Successfully installed aiofiles-23.2.1 fastapi-0.115.5 ffmpy-0.4.0 gradio-5.6.0 gradio-client-1.4.3 markupsafe-2.1.5 pydub-0.25.1 python-multipart-0.0.12 pyttsx3-2.98 ruff-0.7.4 safehttpx-0.1.1 semantic-version-2.10.0 starlette-0.41.2 tomlkit-0.12.0 uvicorn-0.32.0 websockets-12.0 whisper-1.1.10\n"
          ]
        }
      ],
      "source": [
        "pip install openai gradio whisper pyttsx3"
      ]
    },
    {
      "cell_type": "code",
      "source": [
        "pip install gtts"
      ],
      "metadata": {
        "colab": {
          "base_uri": "https://localhost:8080/"
        },
        "id": "2fR643EUvbDY",
        "outputId": "b6d84077-6963-468f-c4c5-5313b14ba1cd"
      },
      "execution_count": 5,
      "outputs": [
        {
          "output_type": "stream",
          "name": "stdout",
          "text": [
            "Collecting gtts\n",
            "  Downloading gTTS-2.5.4-py3-none-any.whl.metadata (4.1 kB)\n",
            "Requirement already satisfied: requests<3,>=2.27 in /usr/local/lib/python3.10/dist-packages (from gtts) (2.32.3)\n",
            "Requirement already satisfied: click<8.2,>=7.1 in /usr/local/lib/python3.10/dist-packages (from gtts) (8.1.7)\n",
            "Requirement already satisfied: charset-normalizer<4,>=2 in /usr/local/lib/python3.10/dist-packages (from requests<3,>=2.27->gtts) (3.4.0)\n",
            "Requirement already satisfied: idna<4,>=2.5 in /usr/local/lib/python3.10/dist-packages (from requests<3,>=2.27->gtts) (3.10)\n",
            "Requirement already satisfied: urllib3<3,>=1.21.1 in /usr/local/lib/python3.10/dist-packages (from requests<3,>=2.27->gtts) (2.2.3)\n",
            "Requirement already satisfied: certifi>=2017.4.17 in /usr/local/lib/python3.10/dist-packages (from requests<3,>=2.27->gtts) (2024.8.30)\n",
            "Downloading gTTS-2.5.4-py3-none-any.whl (29 kB)\n",
            "Installing collected packages: gtts\n",
            "Successfully installed gtts-2.5.4\n"
          ]
        }
      ]
    },
    {
      "cell_type": "code",
      "source": [
        "import os\n",
        "print(os.path.exists(\"calculus_training_data.jsonl\"))"
      ],
      "metadata": {
        "colab": {
          "base_uri": "https://localhost:8080/"
        },
        "id": "rKnfCQGA5tAm",
        "outputId": "bc91829c-d83f-46fd-ab6d-7d4e1eed0e50"
      },
      "execution_count": 14,
      "outputs": [
        {
          "output_type": "stream",
          "name": "stdout",
          "text": [
            "False\n"
          ]
        }
      ]
    },
    {
      "cell_type": "code",
      "source": [
        "import whisper\n",
        "\n",
        "def transcribe_audio(audio_path):\n",
        "    model = whisper.load_model(\"base\")\n",
        "    result = model.transcribe(audio_path)\n",
        "    return result[\"text\"]"
      ],
      "metadata": {
        "id": "30Lsiu7Yu9OP"
      },
      "execution_count": 2,
      "outputs": []
    },
    {
      "cell_type": "code",
      "source": [
        "import openai\n",
        "\n",
        "openai.api_key = \"your_openai_api_key\"\n",
        "\n",
        "def get_response(prompt):\n",
        "    response = openai.ChatCompletion.create(\n",
        "        model=\"gpt-4\",\n",
        "        messages=[{\"role\": \"user\", \"content\": prompt}],\n",
        "    )\n",
        "    return response[\"choices\"][0][\"message\"][\"content\"]"
      ],
      "metadata": {
        "id": "-Eex3Pg3vDPt"
      },
      "execution_count": 3,
      "outputs": []
    },
    {
      "cell_type": "code",
      "source": [
        "from gtts import gTTS\n",
        "\n",
        "def generate_audio(text, filename=\"response.mp3\"):\n",
        "    tts = gTTS(text)\n",
        "    tts.save(filename)\n",
        "    return filename"
      ],
      "metadata": {
        "id": "EbDXykJkvKIR"
      },
      "execution_count": 6,
      "outputs": []
    },
    {
      "cell_type": "code",
      "source": [
        "def voice_chat(audio_input):\n",
        "    # Step 1: Convert voice to text\n",
        "    text_input = transcribe_audio(audio_input)\n",
        "\n",
        "    # Step 2: Query the LLM\n",
        "    response = get_response(text_input)\n",
        "\n",
        "    # Step 3: Convert text response to speech\n",
        "    audio_output = generate_audio(response)\n",
        "\n",
        "    return audio_output"
      ],
      "metadata": {
        "id": "sjSEAhRkvoYr"
      },
      "execution_count": 7,
      "outputs": []
    },
    {
      "cell_type": "code",
      "source": [
        "[\n",
        "  {\n",
        "    \"prompt\": \"Differentiate x^3 + 2x^2 + 4x + 7.\",\n",
        "    \"completion\": \"The derivative of x^3 + 2x^2 + 4x + 7 is 3x^2 + 4x + 4.\"\n",
        "  },\n",
        "  {\n",
        "    \"prompt\": \"Differentiate y = (2x + 1)^3 using the chain rule.\",\n",
        "    \"completion\": \"To differentiate y = (2x + 1)^3, apply the chain rule. The outer function is u^3, and the inner function is u = 2x + 1. The derivative is 3(2x + 1)^2 * 2, which simplifies to 6(2x + 1)^2.\"\n",
        "  },\n",
        "  {\n",
        "    \"prompt\": \"Differentiate f(x) = x^2 * sin(x).\",\n",
        "    \"completion\": \"To differentiate f(x) = x^2 * sin(x), apply the product rule: (uv)' = u'v + uv'. Here, u = x^2 and v = sin(x). The derivative is 2x * sin(x) + x^2 * cos(x).\"\n",
        "  },\n",
        "  {\n",
        "    \"prompt\": \"Differentiate the equation x^2 + y^2 = 25 implicitly with respect to x.\",\n",
        "    \"completion\": \"Differentiating x^2 + y^2 = 25 implicitly with respect to x gives 2x + 2y(dy/dx) = 0. Solving for dy/dx, we get dy/dx = -x/y.\"\n",
        "  },\n",
        "  {\n",
        "    \"prompt\": \"Integrate 3x^2 + 2x + 1.\",\n",
        "    \"completion\": \"The integral of 3x^2 + 2x + 1 is x^3 + x^2 + x + C, where C is the constant of integration.\"\n",
        "  },\n",
        "  {\n",
        "    \"prompt\": \"Integrate ∫2x * sqrt(x^2 + 1) dx using substitution.\",\n",
        "    \"completion\": \"Let u = x^2 + 1, so du = 2x dx. The integral becomes ∫sqrt(u) du = (2/3)u^(3/2) + C. Substituting back, the result is (2/3)(x^2 + 1)^(3/2) + C.\"\n",
        "  },\n",
        "  {\n",
        "    \"prompt\": \"Evaluate the definite integral ∫[0, 2] (2x + 3) dx.\",\n",
        "    \"completion\": \"The integral of 2x + 3 is x^2 + 3x. Evaluating from 0 to 2: [(2^2 + 3*2) - (0^2 + 3*0)] = [4 + 6 - 0] = 10.\"\n",
        "  },\n",
        "  {\n",
        "    \"prompt\": \"Integrate ∫x * e^x dx using integration by parts.\",\n",
        "    \"completion\": \"Using integration by parts, let u = x and dv = e^x dx. Then du = dx and v = e^x. The integral becomes uv - ∫v du = x * e^x - ∫e^x dx = x * e^x - e^x + C.\"\n",
        "  },\n",
        "  {\n",
        "    \"prompt\": \"Evaluate the limit lim(x -> 0) (sin(x)/x).\",\n",
        "    \"completion\": \"As x approaches 0, sin(x)/x approaches 1. So, lim(x -> 0) (sin(x)/x) = 1.\"\n",
        "  },\n",
        "  {\n",
        "    \"prompt\": \"Evaluate the limit lim(x -> 0) [(e^x - 1)/x] using L'Hopital's Rule.\",\n",
        "    \"completion\": \"This is an indeterminate form (0/0). Applying L'Hopital's Rule: differentiate numerator and denominator. d/dx(e^x - 1) = e^x, and d/dx(x) = 1. The limit becomes lim(x -> 0) e^x = 1.\"\n",
        "  },\n",
        "  {\n",
        "    \"prompt\": \"What is the Fundamental Theorem of Calculus?\",\n",
        "    \"completion\": \"The Fundamental Theorem of Calculus has two parts. First, it states that if F is the antiderivative of f, then ∫[a, b] f(x) dx = F(b) - F(a). Second, it states that the derivative of the integral of a function is the function itself.\"\n",
        "  },\n",
        "  {\n",
        "    \"prompt\": \"Find the maximum value of f(x) = -x^2 + 4x + 5.\",\n",
        "    \"completion\": \"To find the maximum, compute the derivative: f'(x) = -2x + 4. Set f'(x) = 0: -2x + 4 = 0 => x = 2. Evaluate f(2): f(2) = -(2^2) + 4(2) + 5 = 9. The maximum value is 9.\"\n",
        "  },\n",
        "  {\n",
        "    \"prompt\": \"Find the area under the curve y = x^2 between x = 0 and x = 3.\",\n",
        "    \"completion\": \"The area is given by the definite integral ∫[0, 3] x^2 dx. The integral of x^2 is (x^3)/3. Evaluating from 0 to 3: [(3^3)/3 - (0^3)/3] = 27/3 = 9. The area is 9.\"\n",
        "  },\n",
        "  {\n",
        "    \"prompt\": \"A ball is thrown upwards with a velocity of 10 m/s. What is its maximum height?\",\n",
        "    \"completion\": \"The height of the ball is given by h(t) = 10t - 4.9t^2. The velocity is the derivative of height: v(t) = 10 - 9.8t. Set v(t) = 0: 10 - 9.8t = 0 => t = 10/9.8 ≈ 1.02 s. Substitute into h(t): h(1.02) ≈ 5.1 meters. The maximum height is 5.1 meters.\"\n",
        "  },\n",
        "  {\n",
        "    \"prompt\": \"If the radius of a circle increases at a rate of 2 cm/s, how fast is the area increasing when the radius is 5 cm?\",\n",
        "    \"completion\": \"The area of a circle is A = πr^2. Differentiate with respect to time t: dA/dt = 2πr(dr/dt). When r = 5 cm and dr/dt = 2 cm/s, dA/dt = 2π(5)(2) = 20π cm²/s.\"\n",
        "  }\n",
        "]\n"
      ],
      "metadata": {
        "colab": {
          "base_uri": "https://localhost:8080/"
        },
        "id": "VGlwCJV9ypqd",
        "outputId": "1a33d06b-82ca-4e35-a11e-fb23f1f6a9cb"
      },
      "execution_count": 11,
      "outputs": [
        {
          "output_type": "execute_result",
          "data": {
            "text/plain": [
              "[{'prompt': 'Differentiate x^3 + 2x^2 + 4x + 7.',\n",
              "  'completion': 'The derivative of x^3 + 2x^2 + 4x + 7 is 3x^2 + 4x + 4.'},\n",
              " {'prompt': 'Differentiate y = (2x + 1)^3 using the chain rule.',\n",
              "  'completion': 'To differentiate y = (2x + 1)^3, apply the chain rule. The outer function is u^3, and the inner function is u = 2x + 1. The derivative is 3(2x + 1)^2 * 2, which simplifies to 6(2x + 1)^2.'},\n",
              " {'prompt': 'Differentiate f(x) = x^2 * sin(x).',\n",
              "  'completion': \"To differentiate f(x) = x^2 * sin(x), apply the product rule: (uv)' = u'v + uv'. Here, u = x^2 and v = sin(x). The derivative is 2x * sin(x) + x^2 * cos(x).\"},\n",
              " {'prompt': 'Differentiate the equation x^2 + y^2 = 25 implicitly with respect to x.',\n",
              "  'completion': 'Differentiating x^2 + y^2 = 25 implicitly with respect to x gives 2x + 2y(dy/dx) = 0. Solving for dy/dx, we get dy/dx = -x/y.'},\n",
              " {'prompt': 'Integrate 3x^2 + 2x + 1.',\n",
              "  'completion': 'The integral of 3x^2 + 2x + 1 is x^3 + x^2 + x + C, where C is the constant of integration.'},\n",
              " {'prompt': 'Integrate ∫2x * sqrt(x^2 + 1) dx using substitution.',\n",
              "  'completion': 'Let u = x^2 + 1, so du = 2x dx. The integral becomes ∫sqrt(u) du = (2/3)u^(3/2) + C. Substituting back, the result is (2/3)(x^2 + 1)^(3/2) + C.'},\n",
              " {'prompt': 'Evaluate the definite integral ∫[0, 2] (2x + 3) dx.',\n",
              "  'completion': 'The integral of 2x + 3 is x^2 + 3x. Evaluating from 0 to 2: [(2^2 + 3*2) - (0^2 + 3*0)] = [4 + 6 - 0] = 10.'},\n",
              " {'prompt': 'Integrate ∫x * e^x dx using integration by parts.',\n",
              "  'completion': 'Using integration by parts, let u = x and dv = e^x dx. Then du = dx and v = e^x. The integral becomes uv - ∫v du = x * e^x - ∫e^x dx = x * e^x - e^x + C.'},\n",
              " {'prompt': 'Evaluate the limit lim(x -> 0) (sin(x)/x).',\n",
              "  'completion': 'As x approaches 0, sin(x)/x approaches 1. So, lim(x -> 0) (sin(x)/x) = 1.'},\n",
              " {'prompt': \"Evaluate the limit lim(x -> 0) [(e^x - 1)/x] using L'Hopital's Rule.\",\n",
              "  'completion': \"This is an indeterminate form (0/0). Applying L'Hopital's Rule: differentiate numerator and denominator. d/dx(e^x - 1) = e^x, and d/dx(x) = 1. The limit becomes lim(x -> 0) e^x = 1.\"},\n",
              " {'prompt': 'What is the Fundamental Theorem of Calculus?',\n",
              "  'completion': 'The Fundamental Theorem of Calculus has two parts. First, it states that if F is the antiderivative of f, then ∫[a, b] f(x) dx = F(b) - F(a). Second, it states that the derivative of the integral of a function is the function itself.'},\n",
              " {'prompt': 'Find the maximum value of f(x) = -x^2 + 4x + 5.',\n",
              "  'completion': \"To find the maximum, compute the derivative: f'(x) = -2x + 4. Set f'(x) = 0: -2x + 4 = 0 => x = 2. Evaluate f(2): f(2) = -(2^2) + 4(2) + 5 = 9. The maximum value is 9.\"},\n",
              " {'prompt': 'Find the area under the curve y = x^2 between x = 0 and x = 3.',\n",
              "  'completion': 'The area is given by the definite integral ∫[0, 3] x^2 dx. The integral of x^2 is (x^3)/3. Evaluating from 0 to 3: [(3^3)/3 - (0^3)/3] = 27/3 = 9. The area is 9.'},\n",
              " {'prompt': 'A ball is thrown upwards with a velocity of 10 m/s. What is its maximum height?',\n",
              "  'completion': 'The height of the ball is given by h(t) = 10t - 4.9t^2. The velocity is the derivative of height: v(t) = 10 - 9.8t. Set v(t) = 0: 10 - 9.8t = 0 => t = 10/9.8 ≈ 1.02 s. Substitute into h(t): h(1.02) ≈ 5.1 meters. The maximum height is 5.1 meters.'},\n",
              " {'prompt': 'If the radius of a circle increases at a rate of 2 cm/s, how fast is the area increasing when the radius is 5 cm?',\n",
              "  'completion': 'The area of a circle is A = πr^2. Differentiate with respect to time t: dA/dt = 2πr(dr/dt). When r = 5 cm and dr/dt = 2 cm/s, dA/dt = 2π(5)(2) = 20π cm²/s.'}]"
            ]
          },
          "metadata": {},
          "execution_count": 11
        }
      ]
    },
    {
      "cell_type": "code",
      "source": [
        "import json\n",
        "\n",
        "# Path to your .jsonl file (update the path if necessary)\n",
        "file_path = \"calculus_training_data.jsonl\"\n",
        "\n",
        "# Open the file and load the data\n",
        "with open(file_path, \"r\") as file:\n",
        "    training_data = [json.loads(line) for line in file]\n",
        "\n",
        "# Check the loaded data\n",
        "print(training_data[:2])  # Print the first two entries as a sample\n"
      ],
      "metadata": {
        "colab": {
          "base_uri": "https://localhost:8080/",
          "height": 211
        },
        "id": "7UFYlNUPyw_f",
        "outputId": "d2e66216-3c4b-4603-8cd2-65e05ff296c3"
      },
      "execution_count": 13,
      "outputs": [
        {
          "output_type": "error",
          "ename": "FileNotFoundError",
          "evalue": "[Errno 2] No such file or directory: 'calculus_training_data.jsonl'",
          "traceback": [
            "\u001b[0;31m---------------------------------------------------------------------------\u001b[0m",
            "\u001b[0;31mFileNotFoundError\u001b[0m                         Traceback (most recent call last)",
            "\u001b[0;32m<ipython-input-13-9f45b91ebf70>\u001b[0m in \u001b[0;36m<cell line: 7>\u001b[0;34m()\u001b[0m\n\u001b[1;32m      5\u001b[0m \u001b[0;34m\u001b[0m\u001b[0m\n\u001b[1;32m      6\u001b[0m \u001b[0;31m# Open the file and load the data\u001b[0m\u001b[0;34m\u001b[0m\u001b[0;34m\u001b[0m\u001b[0m\n\u001b[0;32m----> 7\u001b[0;31m \u001b[0;32mwith\u001b[0m \u001b[0mopen\u001b[0m\u001b[0;34m(\u001b[0m\u001b[0mfile_path\u001b[0m\u001b[0;34m,\u001b[0m \u001b[0;34m\"r\"\u001b[0m\u001b[0;34m)\u001b[0m \u001b[0;32mas\u001b[0m \u001b[0mfile\u001b[0m\u001b[0;34m:\u001b[0m\u001b[0;34m\u001b[0m\u001b[0;34m\u001b[0m\u001b[0m\n\u001b[0m\u001b[1;32m      8\u001b[0m     \u001b[0mtraining_data\u001b[0m \u001b[0;34m=\u001b[0m \u001b[0;34m[\u001b[0m\u001b[0mjson\u001b[0m\u001b[0;34m.\u001b[0m\u001b[0mloads\u001b[0m\u001b[0;34m(\u001b[0m\u001b[0mline\u001b[0m\u001b[0;34m)\u001b[0m \u001b[0;32mfor\u001b[0m \u001b[0mline\u001b[0m \u001b[0;32min\u001b[0m \u001b[0mfile\u001b[0m\u001b[0;34m]\u001b[0m\u001b[0;34m\u001b[0m\u001b[0;34m\u001b[0m\u001b[0m\n\u001b[1;32m      9\u001b[0m \u001b[0;34m\u001b[0m\u001b[0m\n",
            "\u001b[0;31mFileNotFoundError\u001b[0m: [Errno 2] No such file or directory: 'calculus_training_data.jsonl'"
          ]
        }
      ]
    },
    {
      "cell_type": "code",
      "source": [
        "import gradio as gr\n",
        "\n",
        "def chat_with_assistant(audio_input=None, text_input=None):\n",
        "    # If audio is provided, transcribe it\n",
        "    if audio_input:\n",
        "        user_query = transcribe_audio(audio_input)\n",
        "    elif text_input:\n",
        "        user_query = text_input\n",
        "    else:\n",
        "        return \"Please provide a question either in text or audio.\", None\n",
        "\n",
        "    # Determine if it's a calculus question or conceptual query\n",
        "    if \"differentiate\" in user_query or \"integrate\" in user_query:\n",
        "        response = solve_calculus(user_query)\n",
        "    else:\n",
        "        response = query_llm(user_query)\n",
        "\n",
        "    # Generate voice output\n",
        "    audio_output = generate_audio(response)\n",
        "    return response, audio_output\n",
        "\n",
        "ui = gr.Interface(\n",
        "    fn=chat_with_assistant,\n",
        "    inputs=[\n",
        "        gr.Audio(type=\"filepath\", label=\"Ask with your voice\"),\n",
        "        gr.Textbox(lines=2, placeholder=\"Ask your question in text\", label=\"Ask with text\"),\n",
        "    ],\n",
        "    outputs=[\n",
        "        gr.Textbox(label=\"Text Response\"),\n",
        "        gr.Audio(label=\"Voice Response\"),\n",
        "    ],\n",
        "    title=\"TEACH ME: Calculus Teaching Assistant\",\n",
        "    description=\"Ask me calculus questions using voice or text, and I'll respond in both formats.\"\n",
        ")\n",
        "\n",
        "ui.launch()\n"
      ],
      "metadata": {
        "colab": {
          "base_uri": "https://localhost:8080/",
          "height": 646
        },
        "id": "7Xr4fKNZvtk5",
        "outputId": "f9585169-54de-4348-d058-c3b3e58bed60"
      },
      "execution_count": 10,
      "outputs": [
        {
          "output_type": "stream",
          "name": "stdout",
          "text": [
            "Running Gradio in a Colab notebook requires sharing enabled. Automatically setting `share=True` (you can turn this off by setting `share=False` in `launch()` explicitly).\n",
            "\n",
            "Colab notebook detected. To show errors in colab notebook, set debug=True in launch()\n",
            "* Running on public URL: https://5dc664740c261620cb.gradio.live\n",
            "\n",
            "This share link expires in 72 hours. For free permanent hosting and GPU upgrades, run `gradio deploy` from the terminal in the working directory to deploy to Hugging Face Spaces (https://huggingface.co/spaces)\n"
          ]
        },
        {
          "output_type": "display_data",
          "data": {
            "text/plain": [
              "<IPython.core.display.HTML object>"
            ],
            "text/html": [
              "<div><iframe src=\"https://5dc664740c261620cb.gradio.live\" width=\"100%\" height=\"500\" allow=\"autoplay; camera; microphone; clipboard-read; clipboard-write;\" frameborder=\"0\" allowfullscreen></iframe></div>"
            ]
          },
          "metadata": {}
        },
        {
          "output_type": "execute_result",
          "data": {
            "text/plain": []
          },
          "metadata": {},
          "execution_count": 10
        }
      ]
    }
  ]
}